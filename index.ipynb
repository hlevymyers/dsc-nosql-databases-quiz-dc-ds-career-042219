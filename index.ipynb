{
 "cells": [
  {
   "cell_type": "markdown",
   "metadata": {},
   "source": [
    "# NoSQL Databases - Quiz\n",
    "\n",
    "\n",
    "## Introduction\n",
    "\n",
    "In this lesson, we'll try our luck with some common open-ended interview questions about NoSQL databases.\n",
    "\n",
    "\n",
    "## Question 1\n",
    "\n",
    "What is the difference between a NoSQL and a SQL database?  Which is better?\n",
    "\n",
    "Write your answer below this line: \n",
    "_______________________________________________________________________________________________________________________________\n",
    "\n",
    "\n",
    "\n",
    "\n",
    "\n",
    "\n",
    "\n",
    "## Question 2\n",
    "\n",
    "Describe a situation where a NoSQL database might be a better choice than a relational database, and explain your reasoning.\n",
    "\n",
    "Write your answer below this line: \n",
    "_______________________________________________________________________________________________________________________________\n",
    "\n",
    "\n",
    "\n",
    "\n",
    "\n",
    "\n",
    "## Question 3\n",
    "\n",
    "How does MongoDB work? How is it different from a relational database?\n",
    "\n",
    "Write your answer below this line: \n",
    "_______________________________________________________________________________________________________________________________\n",
    "\n",
    "\n",
    "\n",
    "\n",
    "\n",
    "\n",
    "\n",
    "\n",
    "## Question 4\n",
    "\n",
    "What is fault tolerance, and what does it have to do with Resilient Distributed Datasets?\n",
    "\n",
    "Write your answer below this line: \n",
    "_______________________________________________________________________________________________________________________________\n",
    "\n",
    "\n",
    "\n",
    "\n",
    "\n",
    "\n",
    "\n",
    "\n",
    "## Question 5\n",
    "\n",
    "What is MapReduce? How is it related to Hadoop?\n",
    "\n",
    "Write your answer below this line: \n",
    "_______________________________________________________________________________________________________________________________\n",
    "\n",
    "\n",
    "\n",
    "\n",
    "## Summary\n",
    "\n",
    "\n",
    "In this lesson, we reviewed some common NoSQL interview questions. "
   ]
  },
  {
   "cell_type": "code",
   "execution_count": null,
   "metadata": {},
   "outputs": [],
   "source": [
    "'''\n",
    "Question 1\n",
    "What is the difference between a NoSQL and a SQL database? Which is better? A SQL database is set up as a \n",
    "group tables which are linked together by primary keys, which are unique indentifiers. A NoSQL database does\n",
    "not use a table format. There are several varieties of NoSQL databases which are based on different ways\n",
    "organizing data, including document stores, key-value stores, column stores, graph databases and resilient\n",
    "distributed databases. Better should be based on what the data is and how it will evolve in the future. SQL is often an \n",
    "excellent choice.\n",
    "'''"
   ]
  },
  {
   "cell_type": "code",
   "execution_count": null,
   "metadata": {},
   "outputs": [],
   "source": [
    "'''Question 2\n",
    "Describe a situation where a NoSQL database might be a better choice than a relational database, and explain your reasoning.\n",
    "A NoSQL database might be a better choice for a company wanting to track chats on their complaint line.\n",
    "Some chats will be very short and some might be hundreds of chats back and forth to address an issue. Storing\n",
    "3 line and 300 line chats in table organized database like SQL means that often you are storing many NAs and \n",
    "blanks adding time to retreive queries and storage for the data. A document store where each document has a\n",
    "key-value pair might be easier for storage. Naming conventions do become an important component of the data\n",
    "management.\n",
    "'''"
   ]
  },
  {
   "cell_type": "code",
   "execution_count": null,
   "metadata": {},
   "outputs": [],
   "source": [
    "'''Question 3\n",
    "How does MongoDB work? How is it different from a relational database?\n",
    "MongoDB is a resilient distributed database. Its key feature is that the database is distributed across\n",
    "multiple servers and each server also contains a backup of the other servers. When running queries, the query\n",
    "can be run simulationaly across multiple servers and then combined to produce one answer. A relational\n",
    "database is generally hosted by one server.\n",
    "'''"
   ]
  },
  {
   "cell_type": "code",
   "execution_count": null,
   "metadata": {},
   "outputs": [],
   "source": [
    "'''Question 4\n",
    "What is fault tolerance, and what does it have to do with Resilient Distributed Datasets?\n",
    "Fault tolerance means that there is system in place to deal with servers breaking down. Resilient Distributed\n",
    "Systems are a fault tolerance system where the data base is divided between multiple servers and each server\n",
    "also has a backup of the other servers. \n",
    "'''"
   ]
  },
  {
   "cell_type": "code",
   "execution_count": null,
   "metadata": {},
   "outputs": [],
   "source": [
    "'''Question 5\n",
    "What is MapReduce? How is it related to Hadoop?\n",
    "Hadoop is an open source software package that supports resilient distributed datasets. Map refers to the\n",
    "process of sending out queries to multiple servers at the same time. Reduce is the returned answer to the\n",
    "queries that is then combined int\n",
    "'''"
   ]
  }
 ],
 "metadata": {
  "kernelspec": {
   "display_name": "Python 3",
   "language": "python",
   "name": "python3"
  },
  "language_info": {
   "codemirror_mode": {
    "name": "ipython",
    "version": 3
   },
   "file_extension": ".py",
   "mimetype": "text/x-python",
   "name": "python",
   "nbconvert_exporter": "python",
   "pygments_lexer": "ipython3",
   "version": "3.6.6"
  }
 },
 "nbformat": 4,
 "nbformat_minor": 2
}
